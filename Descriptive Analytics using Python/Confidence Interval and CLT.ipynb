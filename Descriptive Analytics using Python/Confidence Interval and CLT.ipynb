{
 "cells": [
  {
   "cell_type": "code",
   "execution_count": 1,
   "id": "f1a0d9b3",
   "metadata": {},
   "outputs": [],
   "source": [
    "import pandas as pd\n",
    "import numpy as np\n",
    "import seaborn as sns\n",
    "import matplotlib.pyplot as plt\n",
    "\n",
    "from scipy.stats import norm, binom, poisson, geom, expon\n",
    "from math import sqrt"
   ]
  },
  {
   "cell_type": "code",
   "execution_count": 2,
   "id": "eb4096a9",
   "metadata": {},
   "outputs": [],
   "source": [
    "data=pd.read_csv(\"walmart_data.txt\")"
   ]
  },
  {
   "cell_type": "code",
   "execution_count": 3,
   "id": "646c0f56",
   "metadata": {},
   "outputs": [
    {
     "data": {
      "text/html": [
       "<div>\n",
       "<style scoped>\n",
       "    .dataframe tbody tr th:only-of-type {\n",
       "        vertical-align: middle;\n",
       "    }\n",
       "\n",
       "    .dataframe tbody tr th {\n",
       "        vertical-align: top;\n",
       "    }\n",
       "\n",
       "    .dataframe thead th {\n",
       "        text-align: right;\n",
       "    }\n",
       "</style>\n",
       "<table border=\"1\" class=\"dataframe\">\n",
       "  <thead>\n",
       "    <tr style=\"text-align: right;\">\n",
       "      <th></th>\n",
       "      <th>User_ID</th>\n",
       "      <th>Product_ID</th>\n",
       "      <th>Gender</th>\n",
       "      <th>Age</th>\n",
       "      <th>Occupation</th>\n",
       "      <th>City_Category</th>\n",
       "      <th>Stay_In_Current_City_Years</th>\n",
       "      <th>Marital_Status</th>\n",
       "      <th>Product_Category</th>\n",
       "      <th>Purchase</th>\n",
       "    </tr>\n",
       "  </thead>\n",
       "  <tbody>\n",
       "    <tr>\n",
       "      <th>0</th>\n",
       "      <td>1000001</td>\n",
       "      <td>P00069042</td>\n",
       "      <td>F</td>\n",
       "      <td>0-17</td>\n",
       "      <td>10</td>\n",
       "      <td>A</td>\n",
       "      <td>2</td>\n",
       "      <td>0</td>\n",
       "      <td>3</td>\n",
       "      <td>8370</td>\n",
       "    </tr>\n",
       "    <tr>\n",
       "      <th>1</th>\n",
       "      <td>1000001</td>\n",
       "      <td>P00248942</td>\n",
       "      <td>F</td>\n",
       "      <td>0-17</td>\n",
       "      <td>10</td>\n",
       "      <td>A</td>\n",
       "      <td>2</td>\n",
       "      <td>0</td>\n",
       "      <td>1</td>\n",
       "      <td>15200</td>\n",
       "    </tr>\n",
       "    <tr>\n",
       "      <th>2</th>\n",
       "      <td>1000001</td>\n",
       "      <td>P00087842</td>\n",
       "      <td>F</td>\n",
       "      <td>0-17</td>\n",
       "      <td>10</td>\n",
       "      <td>A</td>\n",
       "      <td>2</td>\n",
       "      <td>0</td>\n",
       "      <td>12</td>\n",
       "      <td>1422</td>\n",
       "    </tr>\n",
       "    <tr>\n",
       "      <th>3</th>\n",
       "      <td>1000001</td>\n",
       "      <td>P00085442</td>\n",
       "      <td>F</td>\n",
       "      <td>0-17</td>\n",
       "      <td>10</td>\n",
       "      <td>A</td>\n",
       "      <td>2</td>\n",
       "      <td>0</td>\n",
       "      <td>12</td>\n",
       "      <td>1057</td>\n",
       "    </tr>\n",
       "    <tr>\n",
       "      <th>4</th>\n",
       "      <td>1000002</td>\n",
       "      <td>P00285442</td>\n",
       "      <td>M</td>\n",
       "      <td>55+</td>\n",
       "      <td>16</td>\n",
       "      <td>C</td>\n",
       "      <td>4+</td>\n",
       "      <td>0</td>\n",
       "      <td>8</td>\n",
       "      <td>7969</td>\n",
       "    </tr>\n",
       "  </tbody>\n",
       "</table>\n",
       "</div>"
      ],
      "text/plain": [
       "   User_ID Product_ID Gender   Age  Occupation City_Category  \\\n",
       "0  1000001  P00069042      F  0-17          10             A   \n",
       "1  1000001  P00248942      F  0-17          10             A   \n",
       "2  1000001  P00087842      F  0-17          10             A   \n",
       "3  1000001  P00085442      F  0-17          10             A   \n",
       "4  1000002  P00285442      M   55+          16             C   \n",
       "\n",
       "  Stay_In_Current_City_Years  Marital_Status  Product_Category  Purchase  \n",
       "0                          2               0                 3      8370  \n",
       "1                          2               0                 1     15200  \n",
       "2                          2               0                12      1422  \n",
       "3                          2               0                12      1057  \n",
       "4                         4+               0                 8      7969  "
      ]
     },
     "execution_count": 3,
     "metadata": {},
     "output_type": "execute_result"
    }
   ],
   "source": [
    "data.head()"
   ]
  },
  {
   "cell_type": "markdown",
   "id": "02959190",
   "metadata": {},
   "source": [
    "## 1. Defining Problem Statement and Analyzing basic metrics\n",
    "    a. Observations on shape of data, data types of all the attributes, conversion of categorical attributes to 'category' (If required), statistical summary\n",
    "    b. Non-Graphical Analysis: Value counts and unique attributes\n",
    "    c. Visual Analysis - Univariate & Bivariate\n",
    "        i. For continuous variable(s): Distplot, countplot, histogram for univariate analysis\n",
    "        ii. For categorical variable(s): Boxplot\n",
    "        iii. For correlation: Heatmaps, Pairplots"
   ]
  },
  {
   "cell_type": "markdown",
   "id": "ae49fc3e",
   "metadata": {},
   "source": [
    "Problem Statement :\n",
    "> Since the Management team at Walmart Inc. wants to analyze the customer purchase behavior against the customer’s gender and the various other factors to help the business make better decisions. So, we need to analyse the data for\n",
    ">    - purchase affected by Gender\n",
    ">    - purchase made for different city category\n",
    ">    - purchase for different age groups\n",
    ">    - purchase based on Marital status, and so on."
   ]
  },
  {
   "cell_type": "code",
   "execution_count": 4,
   "id": "912ed370",
   "metadata": {},
   "outputs": [
    {
     "data": {
      "text/plain": [
       "(550068, 10)"
      ]
     },
     "execution_count": 4,
     "metadata": {},
     "output_type": "execute_result"
    }
   ],
   "source": [
    "data.shape"
   ]
  },
  {
   "cell_type": "markdown",
   "id": "32db5c40",
   "metadata": {},
   "source": [
    "> From the shape of the data, we can infer that we have 10 columns of data for around 5.5 millions of rows of data. Hence, for analysis we cannot consider all data. Taking samples of data for analysis will be an ideal approach."
   ]
  },
  {
   "cell_type": "code",
   "execution_count": 5,
   "id": "c1beee1d",
   "metadata": {},
   "outputs": [
    {
     "name": "stdout",
     "output_type": "stream",
     "text": [
      "<class 'pandas.core.frame.DataFrame'>\n",
      "RangeIndex: 550068 entries, 0 to 550067\n",
      "Data columns (total 10 columns):\n",
      " #   Column                      Non-Null Count   Dtype \n",
      "---  ------                      --------------   ----- \n",
      " 0   User_ID                     550068 non-null  int64 \n",
      " 1   Product_ID                  550068 non-null  object\n",
      " 2   Gender                      550068 non-null  object\n",
      " 3   Age                         550068 non-null  object\n",
      " 4   Occupation                  550068 non-null  int64 \n",
      " 5   City_Category               550068 non-null  object\n",
      " 6   Stay_In_Current_City_Years  550068 non-null  object\n",
      " 7   Marital_Status              550068 non-null  int64 \n",
      " 8   Product_Category            550068 non-null  int64 \n",
      " 9   Purchase                    550068 non-null  int64 \n",
      "dtypes: int64(5), object(5)\n",
      "memory usage: 42.0+ MB\n"
     ]
    }
   ],
   "source": [
    "data.info()"
   ]
  },
  {
   "cell_type": "markdown",
   "id": "eb236474",
   "metadata": {},
   "source": [
    "> From above code, we can observe that data type is correctly labelled. Also, there is no null data in the provided dataset."
   ]
  },
  {
   "cell_type": "code",
   "execution_count": 6,
   "id": "dbd79d4e",
   "metadata": {},
   "outputs": [
    {
     "data": {
      "text/html": [
       "<div>\n",
       "<style scoped>\n",
       "    .dataframe tbody tr th:only-of-type {\n",
       "        vertical-align: middle;\n",
       "    }\n",
       "\n",
       "    .dataframe tbody tr th {\n",
       "        vertical-align: top;\n",
       "    }\n",
       "\n",
       "    .dataframe thead th {\n",
       "        text-align: right;\n",
       "    }\n",
       "</style>\n",
       "<table border=\"1\" class=\"dataframe\">\n",
       "  <thead>\n",
       "    <tr style=\"text-align: right;\">\n",
       "      <th></th>\n",
       "      <th>User_ID</th>\n",
       "      <th>Occupation</th>\n",
       "      <th>Marital_Status</th>\n",
       "      <th>Product_Category</th>\n",
       "      <th>Purchase</th>\n",
       "    </tr>\n",
       "  </thead>\n",
       "  <tbody>\n",
       "    <tr>\n",
       "      <th>count</th>\n",
       "      <td>5.500680e+05</td>\n",
       "      <td>550068.000000</td>\n",
       "      <td>550068.000000</td>\n",
       "      <td>550068.000000</td>\n",
       "      <td>550068.000000</td>\n",
       "    </tr>\n",
       "    <tr>\n",
       "      <th>mean</th>\n",
       "      <td>1.003029e+06</td>\n",
       "      <td>8.076707</td>\n",
       "      <td>0.409653</td>\n",
       "      <td>5.404270</td>\n",
       "      <td>9263.968713</td>\n",
       "    </tr>\n",
       "    <tr>\n",
       "      <th>std</th>\n",
       "      <td>1.727592e+03</td>\n",
       "      <td>6.522660</td>\n",
       "      <td>0.491770</td>\n",
       "      <td>3.936211</td>\n",
       "      <td>5023.065394</td>\n",
       "    </tr>\n",
       "    <tr>\n",
       "      <th>min</th>\n",
       "      <td>1.000001e+06</td>\n",
       "      <td>0.000000</td>\n",
       "      <td>0.000000</td>\n",
       "      <td>1.000000</td>\n",
       "      <td>12.000000</td>\n",
       "    </tr>\n",
       "    <tr>\n",
       "      <th>25%</th>\n",
       "      <td>1.001516e+06</td>\n",
       "      <td>2.000000</td>\n",
       "      <td>0.000000</td>\n",
       "      <td>1.000000</td>\n",
       "      <td>5823.000000</td>\n",
       "    </tr>\n",
       "    <tr>\n",
       "      <th>50%</th>\n",
       "      <td>1.003077e+06</td>\n",
       "      <td>7.000000</td>\n",
       "      <td>0.000000</td>\n",
       "      <td>5.000000</td>\n",
       "      <td>8047.000000</td>\n",
       "    </tr>\n",
       "    <tr>\n",
       "      <th>75%</th>\n",
       "      <td>1.004478e+06</td>\n",
       "      <td>14.000000</td>\n",
       "      <td>1.000000</td>\n",
       "      <td>8.000000</td>\n",
       "      <td>12054.000000</td>\n",
       "    </tr>\n",
       "    <tr>\n",
       "      <th>max</th>\n",
       "      <td>1.006040e+06</td>\n",
       "      <td>20.000000</td>\n",
       "      <td>1.000000</td>\n",
       "      <td>20.000000</td>\n",
       "      <td>23961.000000</td>\n",
       "    </tr>\n",
       "  </tbody>\n",
       "</table>\n",
       "</div>"
      ],
      "text/plain": [
       "            User_ID     Occupation  Marital_Status  Product_Category  \\\n",
       "count  5.500680e+05  550068.000000   550068.000000     550068.000000   \n",
       "mean   1.003029e+06       8.076707        0.409653          5.404270   \n",
       "std    1.727592e+03       6.522660        0.491770          3.936211   \n",
       "min    1.000001e+06       0.000000        0.000000          1.000000   \n",
       "25%    1.001516e+06       2.000000        0.000000          1.000000   \n",
       "50%    1.003077e+06       7.000000        0.000000          5.000000   \n",
       "75%    1.004478e+06      14.000000        1.000000          8.000000   \n",
       "max    1.006040e+06      20.000000        1.000000         20.000000   \n",
       "\n",
       "            Purchase  \n",
       "count  550068.000000  \n",
       "mean     9263.968713  \n",
       "std      5023.065394  \n",
       "min        12.000000  \n",
       "25%      5823.000000  \n",
       "50%      8047.000000  \n",
       "75%     12054.000000  \n",
       "max     23961.000000  "
      ]
     },
     "execution_count": 6,
     "metadata": {},
     "output_type": "execute_result"
    }
   ],
   "source": [
    "data.describe()"
   ]
  },
  {
   "cell_type": "markdown",
   "id": "502b084c",
   "metadata": {},
   "source": [
    "> The statistical calculation shown above for columns with integer values doesn't make any sense for us except for PURCHASE column.\n",
    "> From the describe function calculation, we can see that\n",
    ">> - mean of the purchase values is around 9264\n",
    ">> - standard deviation of purchase from mean is 5023\n",
    ">> - we can see count of purchases lying below given different percentage of data.\n",
    ">> - we can also see the min and max purchase data"
   ]
  },
  {
   "cell_type": "code",
   "execution_count": 7,
   "id": "2eafed63",
   "metadata": {},
   "outputs": [
    {
     "data": {
      "text/plain": [
       "21"
      ]
     },
     "execution_count": 7,
     "metadata": {},
     "output_type": "execute_result"
    }
   ],
   "source": [
    "data['Occupation'].nunique()"
   ]
  },
  {
   "cell_type": "markdown",
   "id": "145a0c3a",
   "metadata": {},
   "source": [
    "> Although the occupation is a masked value, but we can see that total of 21 different occupation people have purchased and later we can see the distribution as well."
   ]
  },
  {
   "cell_type": "code",
   "execution_count": 8,
   "id": "d16e53c8",
   "metadata": {},
   "outputs": [
    {
     "data": {
      "text/plain": [
       "1     193821\n",
       "2     101838\n",
       "3      95285\n",
       "4+     84726\n",
       "0      74398\n",
       "Name: Stay_In_Current_City_Years, dtype: int64"
      ]
     },
     "execution_count": 8,
     "metadata": {},
     "output_type": "execute_result"
    }
   ],
   "source": [
    "data['Stay_In_Current_City_Years'].value_counts()"
   ]
  },
  {
   "cell_type": "markdown",
   "id": "b1884be0",
   "metadata": {},
   "source": [
    "> In the above calculation, we have a distribution of number of purchases based on different numbers of stay in current city."
   ]
  },
  {
   "cell_type": "code",
   "execution_count": 9,
   "id": "74113b7a",
   "metadata": {},
   "outputs": [],
   "source": [
    "data2=data.copy()"
   ]
  },
  {
   "cell_type": "code",
   "execution_count": 10,
   "id": "2d8dc511",
   "metadata": {},
   "outputs": [],
   "source": [
    "data2['Stay_In_Current_City_Years'].replace(['0'],[0],inplace=True)\n",
    "data2['Stay_In_Current_City_Years'].replace(['1'],[1],inplace=True)\n",
    "data2['Stay_In_Current_City_Years'].replace(['2'],[2],inplace=True)\n",
    "data2['Stay_In_Current_City_Years'].replace(['3'],[3],inplace=True)\n",
    "data2['Stay_In_Current_City_Years'].replace(['4+'],[4],inplace=True)"
   ]
  },
  {
   "cell_type": "markdown",
   "id": "ddc6cf64",
   "metadata": {},
   "source": [
    "> In order to do some statistical analysis on the number of years of stay and the purchases made, we have converted the values from object type to int type."
   ]
  },
  {
   "cell_type": "code",
   "execution_count": 11,
   "id": "2d7785b0",
   "metadata": {},
   "outputs": [
    {
     "data": {
      "text/plain": [
       "M    414259\n",
       "F    135809\n",
       "Name: Gender, dtype: int64"
      ]
     },
     "execution_count": 11,
     "metadata": {},
     "output_type": "execute_result"
    }
   ],
   "source": [
    "data['Gender'].value_counts()"
   ]
  },
  {
   "cell_type": "markdown",
   "id": "c4f165e5",
   "metadata": {},
   "source": [
    "> Above is the value counts of purchases made by the 2 different gender people."
   ]
  },
  {
   "cell_type": "code",
   "execution_count": 12,
   "id": "d1932585",
   "metadata": {},
   "outputs": [],
   "source": [
    "data2['Gender'].replace(['M'],[0],inplace=True)\n",
    "data2['Gender'].replace(['F'],[1],inplace=True)"
   ]
  },
  {
   "cell_type": "code",
   "execution_count": 13,
   "id": "9f3be3b5",
   "metadata": {},
   "outputs": [
    {
     "name": "stdout",
     "output_type": "stream",
     "text": [
      "<class 'pandas.core.frame.DataFrame'>\n",
      "RangeIndex: 550068 entries, 0 to 550067\n",
      "Data columns (total 10 columns):\n",
      " #   Column                      Non-Null Count   Dtype \n",
      "---  ------                      --------------   ----- \n",
      " 0   User_ID                     550068 non-null  int64 \n",
      " 1   Product_ID                  550068 non-null  object\n",
      " 2   Gender                      550068 non-null  int64 \n",
      " 3   Age                         550068 non-null  object\n",
      " 4   Occupation                  550068 non-null  int64 \n",
      " 5   City_Category               550068 non-null  object\n",
      " 6   Stay_In_Current_City_Years  550068 non-null  int64 \n",
      " 7   Marital_Status              550068 non-null  int64 \n",
      " 8   Product_Category            550068 non-null  int64 \n",
      " 9   Purchase                    550068 non-null  int64 \n",
      "dtypes: int64(7), object(3)\n",
      "memory usage: 42.0+ MB\n"
     ]
    }
   ],
   "source": [
    "data2.info()"
   ]
  },
  {
   "cell_type": "markdown",
   "id": "c39c6243",
   "metadata": {},
   "source": [
    "> We have converted categorical value to integet value for Age & Stay_In_Current_City_Years to do some correction analysis with purchases made."
   ]
  },
  {
   "cell_type": "code",
   "execution_count": 14,
   "id": "4cd5f2ba",
   "metadata": {},
   "outputs": [
    {
     "data": {
      "text/html": [
       "<div>\n",
       "<style scoped>\n",
       "    .dataframe tbody tr th:only-of-type {\n",
       "        vertical-align: middle;\n",
       "    }\n",
       "\n",
       "    .dataframe tbody tr th {\n",
       "        vertical-align: top;\n",
       "    }\n",
       "\n",
       "    .dataframe thead th {\n",
       "        text-align: right;\n",
       "    }\n",
       "</style>\n",
       "<table border=\"1\" class=\"dataframe\">\n",
       "  <thead>\n",
       "    <tr style=\"text-align: right;\">\n",
       "      <th></th>\n",
       "      <th>Gender</th>\n",
       "      <th>Occupation</th>\n",
       "      <th>Stay_In_Current_City_Years</th>\n",
       "      <th>Marital_Status</th>\n",
       "      <th>Purchase</th>\n",
       "    </tr>\n",
       "  </thead>\n",
       "  <tbody>\n",
       "    <tr>\n",
       "      <th>Gender</th>\n",
       "      <td>1.000000</td>\n",
       "      <td>-0.117291</td>\n",
       "      <td>-0.014660</td>\n",
       "      <td>0.011603</td>\n",
       "      <td>-0.060346</td>\n",
       "    </tr>\n",
       "    <tr>\n",
       "      <th>Occupation</th>\n",
       "      <td>-0.117291</td>\n",
       "      <td>1.000000</td>\n",
       "      <td>0.030005</td>\n",
       "      <td>0.024280</td>\n",
       "      <td>0.020833</td>\n",
       "    </tr>\n",
       "    <tr>\n",
       "      <th>Stay_In_Current_City_Years</th>\n",
       "      <td>-0.014660</td>\n",
       "      <td>0.030005</td>\n",
       "      <td>1.000000</td>\n",
       "      <td>-0.012819</td>\n",
       "      <td>0.005422</td>\n",
       "    </tr>\n",
       "    <tr>\n",
       "      <th>Marital_Status</th>\n",
       "      <td>0.011603</td>\n",
       "      <td>0.024280</td>\n",
       "      <td>-0.012819</td>\n",
       "      <td>1.000000</td>\n",
       "      <td>-0.000463</td>\n",
       "    </tr>\n",
       "    <tr>\n",
       "      <th>Purchase</th>\n",
       "      <td>-0.060346</td>\n",
       "      <td>0.020833</td>\n",
       "      <td>0.005422</td>\n",
       "      <td>-0.000463</td>\n",
       "      <td>1.000000</td>\n",
       "    </tr>\n",
       "  </tbody>\n",
       "</table>\n",
       "</div>"
      ],
      "text/plain": [
       "                              Gender  Occupation  Stay_In_Current_City_Years  \\\n",
       "Gender                      1.000000   -0.117291                   -0.014660   \n",
       "Occupation                 -0.117291    1.000000                    0.030005   \n",
       "Stay_In_Current_City_Years -0.014660    0.030005                    1.000000   \n",
       "Marital_Status              0.011603    0.024280                   -0.012819   \n",
       "Purchase                   -0.060346    0.020833                    0.005422   \n",
       "\n",
       "                            Marital_Status  Purchase  \n",
       "Gender                            0.011603 -0.060346  \n",
       "Occupation                        0.024280  0.020833  \n",
       "Stay_In_Current_City_Years       -0.012819  0.005422  \n",
       "Marital_Status                    1.000000 -0.000463  \n",
       "Purchase                         -0.000463  1.000000  "
      ]
     },
     "execution_count": 14,
     "metadata": {},
     "output_type": "execute_result"
    }
   ],
   "source": [
    "data2[['Gender','Occupation','Stay_In_Current_City_Years','Marital_Status','Purchase']].corr()"
   ]
  },
  {
   "cell_type": "markdown",
   "id": "360a7907",
   "metadata": {},
   "source": [
    "> From the above correlation of Purchase with other different attributes, these is no significant relation since the correlation factor values are very small compared to 1 & -1 values."
   ]
  },
  {
   "cell_type": "code",
   "execution_count": 15,
   "id": "c84d6e65",
   "metadata": {},
   "outputs": [
    {
     "data": {
      "text/plain": [
       "<AxesSubplot:xlabel='Age', ylabel='Count'>"
      ]
     },
     "execution_count": 15,
     "metadata": {},
     "output_type": "execute_result"
    },
    {
     "data": {
      "image/png": "[encoded data removed]",
      "text/plain": [
       "<Figure size 432x288 with 1 Axes>"
      ]
     },
     "metadata": {
      "needs_background": "light"
     },
     "output_type": "display_data"
    }
   ],
   "source": [
    "sns.histplot(data['Age'])"
   ]
  },
  {
   "cell_type": "markdown",
   "id": "d3012e26",
   "metadata": {},
   "source": [
    "> The histogram chart created is count of purchases for different age groups."
   ]
  },
  {
   "cell_type": "code",
   "execution_count": 16,
   "id": "ccc83c96",
   "metadata": {},
   "outputs": [
    {
     "name": "stderr",
     "output_type": "stream",
     "text": [
      "C:\\Users\\amank\\anaconda3\\lib\\site-packages\\seaborn\\distributions.py:2619: FutureWarning: `distplot` is a deprecated function and will be removed in a future version. Please adapt your code to use either `displot` (a figure-level function with similar flexibility) or `histplot` (an axes-level function for histograms).\n",
      "  warnings.warn(msg, FutureWarning)\n"
     ]
    },
    {
     "data": {
      "text/plain": [
       "<AxesSubplot:xlabel='Occupation', ylabel='Density'>"
      ]
     },
     "execution_count": 16,
     "metadata": {},
     "output_type": "execute_result"
    },
    {
     "data": {
      "image/png": "[encoded data removed]",
      "text/plain": [
       "<Figure size 432x288 with 1 Axes>"
      ]
     },
     "metadata": {
      "needs_background": "light"
     },
     "output_type": "display_data"
    }
   ],
   "source": [
    "sns.distplot(data['Occupation'])"
   ]
  },
  {
   "cell_type": "markdown",
   "id": "ba5cc17a",
   "metadata": {},
   "source": [
    "> Although Occupation data is masked but we have a dist plot to show the density for different purchases based on occupation."
   ]
  },
  {
   "cell_type": "code",
   "execution_count": 17,
   "id": "22f566aa",
   "metadata": {},
   "outputs": [
    {
     "data": {
      "text/plain": [
       "<AxesSubplot:xlabel='Product_Category', ylabel='count'>"
      ]
     },
     "execution_count": 17,
     "metadata": {},
     "output_type": "execute_result"
    },
    {
     "data": {
      "image/png": "[encoded data removed]",
      "text/plain": [
       "<Figure size 432x288 with 1 Axes>"
      ]
     },
     "metadata": {
      "needs_background": "light"
     },
     "output_type": "display_data"
    }
   ],
   "source": [
    "sns.countplot(data=data,x='Product_Category')"
   ]
  },
  {
   "cell_type": "markdown",
   "id": "f42e4c01",
   "metadata": {},
   "source": [
    "> Although Product category values are masked, but above count plot created to show the number of purchases made for different product categories. However, it only shows the purchase count and not the values."
   ]
  },
  {
   "cell_type": "code",
   "execution_count": 18,
   "id": "0046076f",
   "metadata": {},
   "outputs": [
    {
     "data": {
      "text/plain": [
       "<AxesSubplot:xlabel='Product_Category', ylabel='Purchase'>"
      ]
     },
     "execution_count": 18,
     "metadata": {},
     "output_type": "execute_result"
    },
    {
     "data": {
      "image/png": "[encoded data removed]",
      "text/plain": [
       "<Figure size 432x288 with 1 Axes>"
      ]
     },
     "metadata": {
      "needs_background": "light"
     },
     "output_type": "display_data"
    }
   ],
   "source": [
    "sns.barplot(x=data['Product_Category'],y=data['Purchase'])"
   ]
  },
  {
   "cell_type": "markdown",
   "id": "c2fceddb",
   "metadata": {},
   "source": [
    "> Above chart shows the value of purchases made for different product categories."
   ]
  },
  {
   "cell_type": "code",
   "execution_count": 19,
   "id": "b3480bea",
   "metadata": {},
   "outputs": [
    {
     "data": {
      "text/plain": [
       "<AxesSubplot:xlabel='Marital_Status', ylabel='Purchase'>"
      ]
     },
     "execution_count": 19,
     "metadata": {},
     "output_type": "execute_result"
    },
    {
     "data": {
      "image/png": "[encoded data removed]",
      "text/plain": [
       "<Figure size 432x288 with 1 Axes>"
      ]
     },
     "metadata": {
      "needs_background": "light"
     },
     "output_type": "display_data"
    }
   ],
   "source": [
    "sns.barplot(x=data['Marital_Status'],y=data['Purchase'])"
   ]
  },
  {
   "cell_type": "markdown",
   "id": "d4940e41",
   "metadata": {},
   "source": [
    "> Single & married people contribute equally to the purchase of the products."
   ]
  },
  {
   "cell_type": "code",
   "execution_count": 20,
   "id": "e5c6e7b6",
   "metadata": {},
   "outputs": [
    {
     "data": {
      "text/plain": [
       "<AxesSubplot:xlabel='Purchase', ylabel='Count'>"
      ]
     },
     "execution_count": 20,
     "metadata": {},
     "output_type": "execute_result"
    },
    {
     "data": {
      "image/png": "[encoded data removed]",
      "text/plain": [
       "<Figure size 432x288 with 1 Axes>"
      ]
     },
     "metadata": {
      "needs_background": "light"
     },
     "output_type": "display_data"
    }
   ],
   "source": [
    "sns.histplot(data=data, x= 'Purchase', bins= 20)"
   ]
  },
  {
   "cell_type": "markdown",
   "id": "72626d5e",
   "metadata": {},
   "source": [
    "> The above histogram plot shows the count of purchases made for different amount of purchases."
   ]
  },
  {
   "cell_type": "code",
   "execution_count": 21,
   "id": "08862d03",
   "metadata": {},
   "outputs": [
    {
     "data": {
      "text/plain": [
       "<AxesSubplot:xlabel='Purchase', ylabel='Count'>"
      ]
     },
     "execution_count": 21,
     "metadata": {},
     "output_type": "execute_result"
    },
    {
     "data": {
      "image/png": "[encoded data removed]",
      "text/plain": [
       "<Figure size 432x288 with 1 Axes>"
      ]
     },
     "metadata": {
      "needs_background": "light"
     },
     "output_type": "display_data"
    }
   ],
   "source": [
    "sns.histplot(data=data.loc[data['Gender']=='M'], x= 'Purchase', bins = 20)"
   ]
  },
  {
   "cell_type": "markdown",
   "id": "53b2b3fc",
   "metadata": {},
   "source": [
    "> The above histogram plot shows the count of purchases made for different amount of purchases for Men."
   ]
  },
  {
   "cell_type": "code",
   "execution_count": 22,
   "id": "fea1fcdd",
   "metadata": {},
   "outputs": [
    {
     "data": {
      "text/plain": [
       "<AxesSubplot:xlabel='Purchase', ylabel='Count'>"
      ]
     },
     "execution_count": 22,
     "metadata": {},
     "output_type": "execute_result"
    },
    {
     "data": {
      "image/png": "[encoded data removed]",
      "text/plain": [
       "<Figure size 432x288 with 1 Axes>"
      ]
     },
     "metadata": {
      "needs_background": "light"
     },
     "output_type": "display_data"
    }
   ],
   "source": [
    "sns.histplot(data=data.loc[data['Gender']=='F'], x= 'Purchase', bins = 20)"
   ]
  },
  {
   "cell_type": "markdown",
   "id": "689491c2",
   "metadata": {},
   "source": [
    "> The above histogram plot shows the count of purchases made for different amount of purchases for Female."
   ]
  },
  {
   "cell_type": "code",
   "execution_count": 23,
   "id": "23a35164",
   "metadata": {},
   "outputs": [
    {
     "data": {
      "text/plain": [
       "<AxesSubplot:xlabel='Gender', ylabel='Purchase'>"
      ]
     },
     "execution_count": 23,
     "metadata": {},
     "output_type": "execute_result"
    },
    {
     "data": {
      "image/png": "[encoded data removed]",
      "text/plain": [
       "<Figure size 432x288 with 1 Axes>"
      ]
     },
     "metadata": {
      "needs_background": "light"
     },
     "output_type": "display_data"
    }
   ],
   "source": [
    "sns.boxplot(data=data, x='Gender',y='Purchase')"
   ]
  },
  {
   "cell_type": "markdown",
   "id": "2f17e50d",
   "metadata": {},
   "source": [
    "> The above is a boxplot for both gender and in order to compare the median purchase amount values. Also, we can observe some outliers for both gender type."
   ]
  },
  {
   "cell_type": "code",
   "execution_count": 24,
   "id": "8426e4e0",
   "metadata": {},
   "outputs": [
    {
     "data": {
      "text/plain": [
       "<AxesSubplot:>"
      ]
     },
     "execution_count": 24,
     "metadata": {},
     "output_type": "execute_result"
    },
    {
     "data": {
      "image/png": "[encoded data removed]",
      "text/plain": [
       "<Figure size 432x288 with 2 Axes>"
      ]
     },
     "metadata": {
      "needs_background": "light"
     },
     "output_type": "display_data"
    }
   ],
   "source": [
    "sns.heatmap(data2.corr(),annot=True)"
   ]
  },
  {
   "cell_type": "markdown",
   "id": "7514eafd",
   "metadata": {},
   "source": [
    "> From the above heatmap, we can see that, the is not significant direct correction with Purchase amount for different attributes."
   ]
  },
  {
   "cell_type": "code",
   "execution_count": 25,
   "id": "8a859940",
   "metadata": {},
   "outputs": [
    {
     "data": {
      "text/plain": [
       "<seaborn.axisgrid.PairGrid at 0x1c027c5cca0>"
      ]
     },
     "execution_count": 25,
     "metadata": {},
     "output_type": "execute_result"
    },
    {
     "data": {
      "image/png": "[encoded data removed]",
      "text/plain": [
       "<Figure size 437.875x360 with 6 Axes>"
      ]
     },
     "metadata": {
      "needs_background": "light"
     },
     "output_type": "display_data"
    }
   ],
   "source": [
    "sns.pairplot(data2[['City_Category','Stay_In_Current_City_Years','Purchase']],hue='City_Category')"
   ]
  },
  {
   "cell_type": "markdown",
   "id": "86d53425",
   "metadata": {},
   "source": [
    "## 2. Missing Value & Outlier Detection"
   ]
  },
  {
   "cell_type": "code",
   "execution_count": 26,
   "id": "96f6e34e",
   "metadata": {},
   "outputs": [
    {
     "data": {
      "text/plain": [
       "User_ID                       0\n",
       "Product_ID                    0\n",
       "Gender                        0\n",
       "Age                           0\n",
       "Occupation                    0\n",
       "City_Category                 0\n",
       "Stay_In_Current_City_Years    0\n",
       "Marital_Status                0\n",
       "Product_Category              0\n",
       "Purchase                      0\n",
       "dtype: int64"
      ]
     },
     "execution_count": 26,
     "metadata": {},
     "output_type": "execute_result"
    }
   ],
   "source": [
    "pd.isnull(data).sum()"
   ]
  },
  {
   "cell_type": "markdown",
   "id": "1ff85963",
   "metadata": {},
   "source": [
    "> The missing values calculated above is for all column data and there is no missing value in the dataset."
   ]
  },
  {
   "cell_type": "code",
   "execution_count": 27,
   "id": "f192fe06",
   "metadata": {},
   "outputs": [
    {
     "data": {
      "text/plain": [
       "9263.97"
      ]
     },
     "execution_count": 27,
     "metadata": {},
     "output_type": "execute_result"
    }
   ],
   "source": [
    "mean_purchase=round(data['Purchase'].mean(),2)\n",
    "mean_purchase"
   ]
  },
  {
   "cell_type": "code",
   "execution_count": 28,
   "id": "f6a72c86",
   "metadata": {},
   "outputs": [
    {
     "data": {
      "text/plain": [
       "(-579.0, 1125.0)"
      ]
     },
     "execution_count": 28,
     "metadata": {},
     "output_type": "execute_result"
    }
   ],
   "source": [
    "q1 = np.percentile(data['Purchase'], 0.25)\n",
    "q3 = np.percentile(data['Purchase'], 0.75)\n",
    "\n",
    "iqr = q3 - q1\n",
    "\n",
    "upper_limit = q3 + 1.5*iqr\n",
    "lower_limit = q1 - 1.5*iqr\n",
    "\n",
    "lower_limit,upper_limit"
   ]
  },
  {
   "cell_type": "code",
   "execution_count": 29,
   "id": "d2528ec2",
   "metadata": {},
   "outputs": [
    {
     "data": {
      "text/plain": [
       "<AxesSubplot:xlabel='Gender', ylabel='Purchase'>"
      ]
     },
     "execution_count": 29,
     "metadata": {},
     "output_type": "execute_result"
    },
    {
     "data": {
      "image/png": "[encoded data removed]",
      "text/plain": [
       "<Figure size 432x288 with 1 Axes>"
      ]
     },
     "metadata": {
      "needs_background": "light"
     },
     "output_type": "display_data"
    }
   ],
   "source": [
    "sns.boxplot(data=data,y='Purchase',x='Gender')"
   ]
  },
  {
   "cell_type": "markdown",
   "id": "771fa3ee",
   "metadata": {},
   "source": [
    "> For detecting outliers, we calculated median, upper limit and lower limit for the purchase distribution. Also, to compare and then decide on outliers, we can use the boxplot and the limit values calculated."
   ]
  },
  {
   "cell_type": "markdown",
   "id": "273ceb3a",
   "metadata": {},
   "source": [
    "## 3. Business Insights based on Non- Graphical and Visual Analysis\n",
    "    a. Comments on range of attributes\n",
    "    b. Comments on the distribution of the variables and relationship between them\n",
    "    c. Comments for each univariate and bivariate plot"
   ]
  },
  {
   "cell_type": "markdown",
   "id": "5cb80aca",
   "metadata": {},
   "source": [
    "> 1. Number of Purchase made by men is higher than that of female.\n",
    "> 2. People of age group 26-35 have highest number of purchases made.\n",
    "> 3. People staying in current city for 1 years are more likely to make a purchase.\n",
    "> 4. Product Category 1,5 & 8 (masked values) have more number of purchases made.\n",
    "> 5. However, amount of purchases made doesn't depend on the count of purchases made.\n",
    "> 6. Purchase amount distribution is left skewed for overall data, male or female set of data.\n",
    "> 7. There is no significant single attribute impact on the purchases made.\n",
    "> 8. City Category B has relatively more purchases than the other 2 city categories.\n",
    "> 9. No Missing data in the dataset.\n",
    "> 10. Purchase amount ranging from 0 to 1125 are the limits, values outside this range can treated as outliers."
   ]
  },
  {
   "cell_type": "markdown",
   "id": "0c5ea0b1",
   "metadata": {},
   "source": [
    "## Answering questions\n",
    "    a. Are women spending more money per transaction than men? Why or Why not?\n",
    "    b. Confidence intervals and distribution of the mean of the expenses by female and\n",
    "    male customers\n",
    "    c. Is confidence intervals of average male and female spend overlapping? How can\n",
    "    Walmart leverage this conclusion to make changes or improvements?\n",
    "    d. Results when the same activity is performed for Married vs Unmarried\n",
    "    e. Results when the same activity is performed for Age"
   ]
  },
  {
   "cell_type": "code",
   "execution_count": 30,
   "id": "d21ed993",
   "metadata": {},
   "outputs": [
    {
     "data": {
      "text/html": [
       "<div>\n",
       "<style scoped>\n",
       "    .dataframe tbody tr th:only-of-type {\n",
       "        vertical-align: middle;\n",
       "    }\n",
       "\n",
       "    .dataframe tbody tr th {\n",
       "        vertical-align: top;\n",
       "    }\n",
       "\n",
       "    .dataframe thead th {\n",
       "        text-align: right;\n",
       "    }\n",
       "</style>\n",
       "<table border=\"1\" class=\"dataframe\">\n",
       "  <thead>\n",
       "    <tr style=\"text-align: right;\">\n",
       "      <th></th>\n",
       "      <th>Purchase</th>\n",
       "    </tr>\n",
       "    <tr>\n",
       "      <th>Gender</th>\n",
       "      <th></th>\n",
       "    </tr>\n",
       "  </thead>\n",
       "  <tbody>\n",
       "    <tr>\n",
       "      <th>F</th>\n",
       "      <td>8734.565765</td>\n",
       "    </tr>\n",
       "    <tr>\n",
       "      <th>M</th>\n",
       "      <td>9437.526040</td>\n",
       "    </tr>\n",
       "  </tbody>\n",
       "</table>\n",
       "</div>"
      ],
      "text/plain": [
       "           Purchase\n",
       "Gender             \n",
       "F       8734.565765\n",
       "M       9437.526040"
      ]
     },
     "execution_count": 30,
     "metadata": {},
     "output_type": "execute_result"
    }
   ],
   "source": [
    "data.groupby(['Gender'])[['Purchase']].mean()"
   ]
  },
  {
   "cell_type": "markdown",
   "id": "aa62026e",
   "metadata": {},
   "source": [
    "> As we can see in the above calculation, the mean purchase value for men is more than women. So, we can say that the money spent per transaction is more for men than women."
   ]
  },
  {
   "cell_type": "code",
   "execution_count": 31,
   "id": "22f74249",
   "metadata": {},
   "outputs": [],
   "source": [
    "# Let us consider 1000 samples from population data having 300 observations each sample.\n",
    "\n",
    "num_observ = 300\n",
    "\n",
    "num_samples = 1000\n",
    "\n",
    "pop_means = []\n",
    "\n",
    "for i in range(num_observ):\n",
    "    sample = data[\"Purchase\"].sample(num_samples)\n",
    "\n",
    "    pop_means.append(round(sample.mean(), 2))"
   ]
  },
  {
   "cell_type": "code",
   "execution_count": 32,
   "id": "456b8464",
   "metadata": {},
   "outputs": [
    {
     "data": {
      "text/plain": [
       "<AxesSubplot:ylabel='Count'>"
      ]
     },
     "execution_count": 32,
     "metadata": {},
     "output_type": "execute_result"
    },
    {
     "data": {
      "image/png": "[encoded data removed]",
      "text/plain": [
       "<Figure size 432x288 with 1 Axes>"
      ]
     },
     "metadata": {
      "needs_background": "light"
     },
     "output_type": "display_data"
    }
   ],
   "source": [
    "sns.histplot(pop_means, bins = 20)"
   ]
  },
  {
   "cell_type": "markdown",
   "id": "8261c69a",
   "metadata": {},
   "source": [
    "> The mean samples seems to be normally distributed, and the mean value is around 9250, which is similar to the calculated mean value for population equal to 9264."
   ]
  },
  {
   "cell_type": "code",
   "execution_count": 33,
   "id": "2d17b359",
   "metadata": {},
   "outputs": [],
   "source": [
    "# let us draw the similar insights based on gender.\n",
    "\n",
    "data_male=data.loc[data['Gender']=='M']\n",
    "data_female=data.loc[data['Gender']=='F']"
   ]
  },
  {
   "cell_type": "code",
   "execution_count": 34,
   "id": "ba1819ce",
   "metadata": {},
   "outputs": [],
   "source": [
    "num_observ = 300\n",
    "\n",
    "num_samples = 1000\n",
    "\n",
    "male_means = []\n",
    "female_means = []\n",
    "\n",
    "for i in range(num_observ):\n",
    "    sample_men = data_male[\"Purchase\"].sample(num_samples)\n",
    "    sample_women = data_female[\"Purchase\"].sample(num_samples)\n",
    "\n",
    "    male_means.append(round(sample_men.mean(), 2))\n",
    "    female_means.append(round(sample_women.mean(), 2))"
   ]
  },
  {
   "cell_type": "code",
   "execution_count": 35,
   "id": "e3c5a0d6",
   "metadata": {},
   "outputs": [
    {
     "data": {
      "text/plain": [
       "<AxesSubplot:ylabel='Count'>"
      ]
     },
     "execution_count": 35,
     "metadata": {},
     "output_type": "execute_result"
    },
    {
     "data": {
      "image/png": "[encoded data removed]",
      "text/plain": [
       "<Figure size 432x288 with 1 Axes>"
      ]
     },
     "metadata": {
      "needs_background": "light"
     },
     "output_type": "display_data"
    }
   ],
   "source": [
    "sns.histplot(male_means, bins = 20)"
   ]
  },
  {
   "cell_type": "code",
   "execution_count": 36,
   "id": "b67d8332",
   "metadata": {},
   "outputs": [
    {
     "data": {
      "text/plain": [
       "<AxesSubplot:ylabel='Count'>"
      ]
     },
     "execution_count": 36,
     "metadata": {},
     "output_type": "execute_result"
    },
    {
     "data": {
      "image/png": "[encoded data removed]",
      "text/plain": [
       "<Figure size 432x288 with 1 Axes>"
      ]
     },
     "metadata": {
      "needs_background": "light"
     },
     "output_type": "display_data"
    }
   ],
   "source": [
    "sns.histplot(female_means, bins = 20)"
   ]
  },
  {
   "cell_type": "markdown",
   "id": "459af7c9",
   "metadata": {},
   "source": [
    "> The distribution of sample means for both male & female are normally distributed. Also, the mean of means for men and women are similar to the calculated value from population data (9.4k for men and 8.7k from women)\n",
    "\n",
    "> Hence it obeys the Central Limit Theorem."
   ]
  },
  {
   "cell_type": "code",
   "execution_count": 37,
   "id": "c4bfa2eb",
   "metadata": {},
   "outputs": [
    {
     "name": "stdout",
     "output_type": "stream",
     "text": [
      "Confidence interval for men's purchase:  [9062.738500000001, 9712.031]\n"
     ]
    }
   ],
   "source": [
    "left = np.percentile(male_means, 2.5)\n",
    "right = np.percentile(male_means, 97.5)\n",
    "\n",
    "print(\"Confidence interval for men's purchase: \", [left, right])"
   ]
  },
  {
   "cell_type": "code",
   "execution_count": 38,
   "id": "bc08d5eb",
   "metadata": {},
   "outputs": [
    {
     "name": "stdout",
     "output_type": "stream",
     "text": [
      "Confidence interval for women's purchase:  [8474.9085, 9020.4945]\n"
     ]
    }
   ],
   "source": [
    "left = np.percentile(female_means, 2.5)\n",
    "right = np.percentile(female_means, 97.5)\n",
    "\n",
    "print(\"Confidence interval for women's purchase: \", [left, right])"
   ]
  },
  {
   "cell_type": "markdown",
   "id": "3fb65964",
   "metadata": {},
   "source": [
    "> The CIs for men & women purchase are very different and do not overlap at all. So, walmart needs to figure out the way to increase the sales for women."
   ]
  },
  {
   "cell_type": "code",
   "execution_count": 39,
   "id": "d532db99",
   "metadata": {},
   "outputs": [
    {
     "data": {
      "text/html": [
       "<div>\n",
       "<style scoped>\n",
       "    .dataframe tbody tr th:only-of-type {\n",
       "        vertical-align: middle;\n",
       "    }\n",
       "\n",
       "    .dataframe tbody tr th {\n",
       "        vertical-align: top;\n",
       "    }\n",
       "\n",
       "    .dataframe thead th {\n",
       "        text-align: right;\n",
       "    }\n",
       "</style>\n",
       "<table border=\"1\" class=\"dataframe\">\n",
       "  <thead>\n",
       "    <tr style=\"text-align: right;\">\n",
       "      <th></th>\n",
       "      <th>Purchase</th>\n",
       "    </tr>\n",
       "    <tr>\n",
       "      <th>Marital_Status</th>\n",
       "      <th></th>\n",
       "    </tr>\n",
       "  </thead>\n",
       "  <tbody>\n",
       "    <tr>\n",
       "      <th>0</th>\n",
       "      <td>9265.907619</td>\n",
       "    </tr>\n",
       "    <tr>\n",
       "      <th>1</th>\n",
       "      <td>9261.174574</td>\n",
       "    </tr>\n",
       "  </tbody>\n",
       "</table>\n",
       "</div>"
      ],
      "text/plain": [
       "                   Purchase\n",
       "Marital_Status             \n",
       "0               9265.907619\n",
       "1               9261.174574"
      ]
     },
     "execution_count": 39,
     "metadata": {},
     "output_type": "execute_result"
    }
   ],
   "source": [
    "# similar analysis based on marital status\n",
    "\n",
    "data.groupby(['Marital_Status'])[['Purchase']].mean()"
   ]
  },
  {
   "cell_type": "code",
   "execution_count": 40,
   "id": "41decfe8",
   "metadata": {},
   "outputs": [],
   "source": [
    "data_single=data.loc[data['Marital_Status']==0]\n",
    "data_married=data.loc[data['Marital_Status']==1]\n",
    "\n",
    "num_observ = 300\n",
    "\n",
    "num_samples = 1000\n",
    "\n",
    "single_means = []\n",
    "married_means = []\n",
    "\n",
    "for i in range(num_observ):\n",
    "    sample_single = data_single[\"Purchase\"].sample(num_samples)\n",
    "    sample_married = data_married[\"Purchase\"].sample(num_samples)\n",
    "\n",
    "    single_means.append(round(sample_single.mean(), 2))\n",
    "    married_means.append(round(sample_married.mean(), 2))"
   ]
  },
  {
   "cell_type": "code",
   "execution_count": 41,
   "id": "51d4c692",
   "metadata": {},
   "outputs": [
    {
     "data": {
      "text/plain": [
       "<AxesSubplot:ylabel='Count'>"
      ]
     },
     "execution_count": 41,
     "metadata": {},
     "output_type": "execute_result"
    },
    {
     "data": {
      "image/png": "[encoded data removed]",
      "text/plain": [
       "<Figure size 432x288 with 1 Axes>"
      ]
     },
     "metadata": {
      "needs_background": "light"
     },
     "output_type": "display_data"
    }
   ],
   "source": [
    "sns.histplot(single_means, bins = 20)"
   ]
  },
  {
   "cell_type": "code",
   "execution_count": 42,
   "id": "94bf55ef",
   "metadata": {},
   "outputs": [
    {
     "data": {
      "text/plain": [
       "<AxesSubplot:ylabel='Count'>"
      ]
     },
     "execution_count": 42,
     "metadata": {},
     "output_type": "execute_result"
    },
    {
     "data": {
      "image/png": "[encoded data removed]",
      "text/plain": [
       "<Figure size 432x288 with 1 Axes>"
      ]
     },
     "metadata": {
      "needs_background": "light"
     },
     "output_type": "display_data"
    }
   ],
   "source": [
    "sns.histplot(married_means, bins = 20)"
   ]
  },
  {
   "cell_type": "code",
   "execution_count": 43,
   "id": "856de0e9",
   "metadata": {},
   "outputs": [
    {
     "name": "stdout",
     "output_type": "stream",
     "text": [
      "Confidence interval for single person purchase:  [8967.83, 9580.406]\n",
      "Confidence interval for married people purchase:  [8959.7705, 9582.809]\n"
     ]
    }
   ],
   "source": [
    "left = np.percentile(single_means, 2.5)\n",
    "right = np.percentile(single_means, 97.5)\n",
    "\n",
    "print(\"Confidence interval for single person purchase: \", [left, right])\n",
    "\n",
    "left = np.percentile(married_means, 2.5)\n",
    "right = np.percentile(married_means, 97.5)\n",
    "\n",
    "print(\"Confidence interval for married people purchase: \", [left, right])"
   ]
  },
  {
   "cell_type": "markdown",
   "id": "a093a798",
   "metadata": {},
   "source": [
    "> The mean distribution is normal for both single & married people. Also, the mean of means is same as the means calculated from the population data. CIs are also very much similar both single and married people."
   ]
  },
  {
   "cell_type": "code",
   "execution_count": 44,
   "id": "78d2e0df",
   "metadata": {},
   "outputs": [
    {
     "data": {
      "text/html": [
       "<div>\n",
       "<style scoped>\n",
       "    .dataframe tbody tr th:only-of-type {\n",
       "        vertical-align: middle;\n",
       "    }\n",
       "\n",
       "    .dataframe tbody tr th {\n",
       "        vertical-align: top;\n",
       "    }\n",
       "\n",
       "    .dataframe thead th {\n",
       "        text-align: right;\n",
       "    }\n",
       "</style>\n",
       "<table border=\"1\" class=\"dataframe\">\n",
       "  <thead>\n",
       "    <tr style=\"text-align: right;\">\n",
       "      <th></th>\n",
       "      <th>Purchase</th>\n",
       "    </tr>\n",
       "    <tr>\n",
       "      <th>Age</th>\n",
       "      <th></th>\n",
       "    </tr>\n",
       "  </thead>\n",
       "  <tbody>\n",
       "    <tr>\n",
       "      <th>0-17</th>\n",
       "      <td>8933.464640</td>\n",
       "    </tr>\n",
       "    <tr>\n",
       "      <th>18-25</th>\n",
       "      <td>9169.663606</td>\n",
       "    </tr>\n",
       "    <tr>\n",
       "      <th>26-35</th>\n",
       "      <td>9252.690633</td>\n",
       "    </tr>\n",
       "    <tr>\n",
       "      <th>36-45</th>\n",
       "      <td>9331.350695</td>\n",
       "    </tr>\n",
       "    <tr>\n",
       "      <th>46-50</th>\n",
       "      <td>9208.625697</td>\n",
       "    </tr>\n",
       "    <tr>\n",
       "      <th>51-55</th>\n",
       "      <td>9534.808031</td>\n",
       "    </tr>\n",
       "    <tr>\n",
       "      <th>55+</th>\n",
       "      <td>9336.280459</td>\n",
       "    </tr>\n",
       "  </tbody>\n",
       "</table>\n",
       "</div>"
      ],
      "text/plain": [
       "          Purchase\n",
       "Age               \n",
       "0-17   8933.464640\n",
       "18-25  9169.663606\n",
       "26-35  9252.690633\n",
       "36-45  9331.350695\n",
       "46-50  9208.625697\n",
       "51-55  9534.808031\n",
       "55+    9336.280459"
      ]
     },
     "execution_count": 44,
     "metadata": {},
     "output_type": "execute_result"
    }
   ],
   "source": [
    "# let us draw the similar insights based on Age.\n",
    "data.groupby(['Age'])[['Purchase']].mean()"
   ]
  },
  {
   "cell_type": "code",
   "execution_count": 45,
   "id": "ec7e97f3",
   "metadata": {},
   "outputs": [
    {
     "name": "stdout",
     "output_type": "stream",
     "text": [
      "Confidence interval for 0-17 age person purchase:  [8621.224750000001, 9233.64075]\n",
      "Confidence interval for 55+ age person purchase:  [9049.6805, 9638.144]\n",
      "Confidence interval for 26-35 age person purchase:  [8941.109, 9561.84175]\n",
      "Confidence interval for 46-50 age person purchase:  [8914.58, 9521.94975]\n",
      "Confidence interval for 51-55 age person purchase:  [9217.369, 9832.50425]\n",
      "Confidence interval for 36-45 age person purchase:  [8991.3505, 9628.713749999999]\n",
      "Confidence interval for 18-25 age person purchase:  [8860.28525, 9450.69775]\n"
     ]
    }
   ],
   "source": [
    "for i in data['Age'].unique():\n",
    "    data_age=data.loc[data['Age']==i]\n",
    "\n",
    "    num_observ = 300\n",
    "    num_samples = 1000\n",
    "\n",
    "    means_i = []\n",
    "\n",
    "    for j in range(num_observ):\n",
    "        sample_i = data_age[\"Purchase\"].sample(num_samples)\n",
    "\n",
    "        means_i.append(round(sample_i.mean(), 2))\n",
    "\n",
    "    left = np.percentile(means_i, 2.5)\n",
    "    right = np.percentile(means_i, 97.5)\n",
    "\n",
    "    print(\"Confidence interval for {} age person purchase: \".format(i), [left, right])"
   ]
  },
  {
   "cell_type": "markdown",
   "id": "6b1b1743",
   "metadata": {},
   "source": [
    "> The mean distribution is normal for all aged people. Also, the mean of means is same as the means calculated from the population data. CIs are also very much similar all aged people."
   ]
  },
  {
   "cell_type": "markdown",
   "id": "2546f5f9",
   "metadata": {},
   "source": [
    "## 5. Final Insights "
   ]
  },
  {
   "cell_type": "markdown",
   "id": "0e0d8298",
   "metadata": {},
   "source": [
    "> 1. CIs of men and women purchase doesn't overlap and men have higher upper limit of purchasing the products.\n",
    "> 2. Age group of 26-35 are more frequent buyers.\n",
    "> 3. Age group 0-17 have the least buy from the company.\n",
    "> 4. Occupation label - 0,4 & 7 (masked value) have more purchase density\n",
    "> 5. Product Category - 1,5 & 8 purchase has more frequency.\n",
    "> 6. Product category - 4,12,13,19 & 20 contribute least to the overall purchase amount.\n",
    "> 7. City Category - B has more number of purchases.\n",
    "> 8. People living in current city for 1 year make highest number of purchases.\n",
    "> 9. People with less than a year or 4+ years in the city have least number of purchases.\n",
    "> 10. Both single & married people contribute equally to the sale."
   ]
  },
  {
   "cell_type": "markdown",
   "id": "ee8b3d17",
   "metadata": {},
   "source": [
    "## 6. Recommendations"
   ]
  },
  {
   "cell_type": "markdown",
   "id": "e7898213",
   "metadata": {},
   "source": [
    "> 1. Increase female product inventory and implement offers to increase female purchase.\n",
    "> 2. Keep male buyers retension in check, since they contribute a lot to the sale.\n",
    "> 3. Focus of introducing more customer engagement for kids and teenagers to increase the purchase of 0-17 age group.\n",
    "> 4. keep the inventory with enough stock for 26-35 age buyers products.\n",
    "> 5. Bring out offers and products to increase the purchase for lower purchase density based on occupation.\n",
    "> 6. Maintain the product stock for Product Category - 1,5 & 8.\n",
    "> 7. Bring out offers to increase the sale of other categories.\n",
    "> 8. Bring out regulations for the least purchase contributor product catrgories to increase sale or drop from the sale.\n",
    "> 9. Introduce offers to bring out more customers in City Category - A & C.\n",
    "> 10. Expend on advertisement to bring out more customers who are new to the city and can introduce membership offers to retain people who live longer in the current city. \n"
   ]
  }
 ],
 "metadata": {
  "kernelspec": {
   "display_name": "Python 3 (ipykernel)",
   "language": "python",
   "name": "python3"
  },
  "language_info": {
   "codemirror_mode": {
    "name": "ipython",
    "version": 3
   },
   "file_extension": ".py",
   "mimetype": "text/x-python",
   "name": "python",
   "nbconvert_exporter": "python",
   "pygments_lexer": "ipython3",
   "version": "3.9.7"
  }
 },
 "nbformat": 4,
 "nbformat_minor": 5
}
