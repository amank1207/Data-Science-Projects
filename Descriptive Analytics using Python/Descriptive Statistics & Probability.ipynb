{
 "cells": [
  {
   "cell_type": "code",
   "execution_count": 1,
   "id": "1c99423f",
   "metadata": {},
   "outputs": [],
   "source": [
    "import pandas as pd\n",
    "import numpy as np\n",
    "import matplotlib.pyplot as plt\n",
    "import seaborn as sns"
   ]
  },
  {
   "cell_type": "code",
   "execution_count": 2,
   "id": "838e94b1",
   "metadata": {},
   "outputs": [],
   "source": [
    "data = pd.read_csv(\"aerofit_treadmill.txt\")"
   ]
  },
  {
   "cell_type": "code",
   "execution_count": 3,
   "id": "ed616097",
   "metadata": {},
   "outputs": [
    {
     "data": {
      "text/html": [
       "<div>\n",
       "<style scoped>\n",
       "    .dataframe tbody tr th:only-of-type {\n",
       "        vertical-align: middle;\n",
       "    }\n",
       "\n",
       "    .dataframe tbody tr th {\n",
       "        vertical-align: top;\n",
       "    }\n",
       "\n",
       "    .dataframe thead th {\n",
       "        text-align: right;\n",
       "    }\n",
       "</style>\n",
       "<table border=\"1\" class=\"dataframe\">\n",
       "  <thead>\n",
       "    <tr style=\"text-align: right;\">\n",
       "      <th></th>\n",
       "      <th>Product</th>\n",
       "      <th>Age</th>\n",
       "      <th>Gender</th>\n",
       "      <th>Education</th>\n",
       "      <th>MaritalStatus</th>\n",
       "      <th>Usage</th>\n",
       "      <th>Fitness</th>\n",
       "      <th>Income</th>\n",
       "      <th>Miles</th>\n",
       "    </tr>\n",
       "  </thead>\n",
       "  <tbody>\n",
       "    <tr>\n",
       "      <th>0</th>\n",
       "      <td>KP281</td>\n",
       "      <td>18</td>\n",
       "      <td>Male</td>\n",
       "      <td>14</td>\n",
       "      <td>Single</td>\n",
       "      <td>3</td>\n",
       "      <td>4</td>\n",
       "      <td>29562</td>\n",
       "      <td>112</td>\n",
       "    </tr>\n",
       "    <tr>\n",
       "      <th>1</th>\n",
       "      <td>KP281</td>\n",
       "      <td>19</td>\n",
       "      <td>Male</td>\n",
       "      <td>15</td>\n",
       "      <td>Single</td>\n",
       "      <td>2</td>\n",
       "      <td>3</td>\n",
       "      <td>31836</td>\n",
       "      <td>75</td>\n",
       "    </tr>\n",
       "    <tr>\n",
       "      <th>2</th>\n",
       "      <td>KP281</td>\n",
       "      <td>19</td>\n",
       "      <td>Female</td>\n",
       "      <td>14</td>\n",
       "      <td>Partnered</td>\n",
       "      <td>4</td>\n",
       "      <td>3</td>\n",
       "      <td>30699</td>\n",
       "      <td>66</td>\n",
       "    </tr>\n",
       "    <tr>\n",
       "      <th>3</th>\n",
       "      <td>KP281</td>\n",
       "      <td>19</td>\n",
       "      <td>Male</td>\n",
       "      <td>12</td>\n",
       "      <td>Single</td>\n",
       "      <td>3</td>\n",
       "      <td>3</td>\n",
       "      <td>32973</td>\n",
       "      <td>85</td>\n",
       "    </tr>\n",
       "    <tr>\n",
       "      <th>4</th>\n",
       "      <td>KP281</td>\n",
       "      <td>20</td>\n",
       "      <td>Male</td>\n",
       "      <td>13</td>\n",
       "      <td>Partnered</td>\n",
       "      <td>4</td>\n",
       "      <td>2</td>\n",
       "      <td>35247</td>\n",
       "      <td>47</td>\n",
       "    </tr>\n",
       "  </tbody>\n",
       "</table>\n",
       "</div>"
      ],
      "text/plain": [
       "  Product  Age  Gender  Education MaritalStatus  Usage  Fitness  Income  Miles\n",
       "0   KP281   18    Male         14        Single      3        4   29562    112\n",
       "1   KP281   19    Male         15        Single      2        3   31836     75\n",
       "2   KP281   19  Female         14     Partnered      4        3   30699     66\n",
       "3   KP281   19    Male         12        Single      3        3   32973     85\n",
       "4   KP281   20    Male         13     Partnered      4        2   35247     47"
      ]
     },
     "execution_count": 3,
     "metadata": {},
     "output_type": "execute_result"
    }
   ],
   "source": [
    "data.head()"
   ]
  },
  {
   "cell_type": "markdown",
   "id": "fb52e5be",
   "metadata": {},
   "source": [
    "### 1.\tDefining Problem Statement and Analysing basic metrics\n",
    "1.\tObservations on shape of data, data types of all the attributes, conversion of categorical attributes to 'category' (If required), statistical summary\n"
   ]
  },
  {
   "cell_type": "code",
   "execution_count": 4,
   "id": "7af96f0e",
   "metadata": {},
   "outputs": [
    {
     "name": "stdout",
     "output_type": "stream",
     "text": [
      "<class 'pandas.core.frame.DataFrame'>\n",
      "RangeIndex: 180 entries, 0 to 179\n",
      "Data columns (total 9 columns):\n",
      " #   Column         Non-Null Count  Dtype \n",
      "---  ------         --------------  ----- \n",
      " 0   Product        180 non-null    object\n",
      " 1   Age            180 non-null    int64 \n",
      " 2   Gender         180 non-null    object\n",
      " 3   Education      180 non-null    int64 \n",
      " 4   MaritalStatus  180 non-null    object\n",
      " 5   Usage          180 non-null    int64 \n",
      " 6   Fitness        180 non-null    int64 \n",
      " 7   Income         180 non-null    int64 \n",
      " 8   Miles          180 non-null    int64 \n",
      "dtypes: int64(6), object(3)\n",
      "memory usage: 12.8+ KB\n"
     ]
    }
   ],
   "source": [
    "data.info()"
   ]
  },
  {
   "cell_type": "markdown",
   "id": "af797893",
   "metadata": {},
   "source": [
    "> 1. Shape of the data is (180, 9) i.e., 180 rows of data for 9 columns.\n",
    "> 2. Also, there is no missing value in the dataset, since non-null count for all columns of data is same.\n",
    "> 3. For Catrgorical columns like Product, Gender & MaritalStatus; datatype is object (for string type) and for other columns with numerical values, datatype is int as needed."
   ]
  },
  {
   "cell_type": "markdown",
   "id": "5096fb5a",
   "metadata": {},
   "source": [
    "##### Problem Statement"
   ]
  },
  {
   "cell_type": "markdown",
   "id": "aff17434",
   "metadata": {},
   "source": [
    "The data shows the treadmill buyers details, which can give us insights about the sales of the treadmills based on the user data. The factors governing will be,\n",
    ">1. buyers age group and usage\n",
    ">2. gender based usage\n",
    ">3. based Income of user\n",
    ">4. Fitness of the user\n",
    ">5. usage governed by maritalstatus\n",
    "\n",
    "Analysing the above factors will help us to know the new customer type and behaviour predictability."
   ]
  },
  {
   "cell_type": "code",
   "execution_count": 5,
   "id": "b7c6e46e",
   "metadata": {},
   "outputs": [
    {
     "data": {
      "text/plain": [
       "Male      104\n",
       "Female     76\n",
       "Name: Gender, dtype: int64"
      ]
     },
     "execution_count": 5,
     "metadata": {},
     "output_type": "execute_result"
    }
   ],
   "source": [
    "Gender_count=data['Gender'].value_counts()\n",
    "Gender_count"
   ]
  },
  {
   "cell_type": "code",
   "execution_count": 6,
   "id": "941c17c2",
   "metadata": {},
   "outputs": [
    {
     "data": {
      "text/plain": [
       "Male      0.577778\n",
       "Female    0.422222\n",
       "Name: Gender, dtype: float64"
      ]
     },
     "execution_count": 6,
     "metadata": {},
     "output_type": "execute_result"
    }
   ],
   "source": [
    "Gender_prob=Gender_count/len(data)\n",
    "Gender_prob"
   ]
  },
  {
   "cell_type": "markdown",
   "id": "d0d8939a",
   "metadata": {},
   "source": [
    "> For the given dataset, probability of male buyers for the treadmill is 0.58, whereas, for female buyers the probability is 0.42."
   ]
  },
  {
   "cell_type": "code",
   "execution_count": 7,
   "id": "e20b2697",
   "metadata": {},
   "outputs": [
    {
     "data": {
      "text/plain": [
       "Partnered    0.594444\n",
       "Single       0.405556\n",
       "Name: MaritalStatus, dtype: float64"
      ]
     },
     "execution_count": 7,
     "metadata": {},
     "output_type": "execute_result"
    }
   ],
   "source": [
    "MaritalStatus_count=data['MaritalStatus'].value_counts()\n",
    "MaritalStatus_prob=MaritalStatus_count/len(data)\n",
    "MaritalStatus_prob"
   ]
  },
  {
   "cell_type": "markdown",
   "id": "c2425eae",
   "metadata": {},
   "source": [
    "> For the given dataset, probability of Partnered buyers for the treadmill is 0.59, whereas, for Single buyers the probability is 0.41."
   ]
  },
  {
   "cell_type": "code",
   "execution_count": 8,
   "id": "eec28575",
   "metadata": {},
   "outputs": [
    {
     "data": {
      "text/plain": [
       "KP281    0.444444\n",
       "KP481    0.333333\n",
       "KP781    0.222222\n",
       "Name: Product, dtype: float64"
      ]
     },
     "execution_count": 8,
     "metadata": {},
     "output_type": "execute_result"
    }
   ],
   "source": [
    "ProductType_count=data['Product'].value_counts()\n",
    "ProductType_prob=ProductType_count/len(data)\n",
    "ProductType_prob"
   ]
  },
  {
   "cell_type": "markdown",
   "id": "1792bae2",
   "metadata": {},
   "source": [
    "> If we see about the product type, probability of KP281 type treadmill product is 0.44, for KP481 type the probability is 0.33 and for KP781 type the probability is 0.22."
   ]
  },
  {
   "cell_type": "code",
   "execution_count": 9,
   "id": "34790a2b",
   "metadata": {},
   "outputs": [
    {
     "data": {
      "text/html": [
       "<div>\n",
       "<style scoped>\n",
       "    .dataframe tbody tr th:only-of-type {\n",
       "        vertical-align: middle;\n",
       "    }\n",
       "\n",
       "    .dataframe tbody tr th {\n",
       "        vertical-align: top;\n",
       "    }\n",
       "\n",
       "    .dataframe thead th {\n",
       "        text-align: right;\n",
       "    }\n",
       "</style>\n",
       "<table border=\"1\" class=\"dataframe\">\n",
       "  <thead>\n",
       "    <tr style=\"text-align: right;\">\n",
       "      <th>Gender</th>\n",
       "      <th>Female</th>\n",
       "      <th>Male</th>\n",
       "    </tr>\n",
       "    <tr>\n",
       "      <th>Product</th>\n",
       "      <th></th>\n",
       "      <th></th>\n",
       "    </tr>\n",
       "  </thead>\n",
       "  <tbody>\n",
       "    <tr>\n",
       "      <th>KP281</th>\n",
       "      <td>40</td>\n",
       "      <td>40</td>\n",
       "    </tr>\n",
       "    <tr>\n",
       "      <th>KP481</th>\n",
       "      <td>29</td>\n",
       "      <td>31</td>\n",
       "    </tr>\n",
       "    <tr>\n",
       "      <th>KP781</th>\n",
       "      <td>7</td>\n",
       "      <td>33</td>\n",
       "    </tr>\n",
       "  </tbody>\n",
       "</table>\n",
       "</div>"
      ],
      "text/plain": [
       "Gender   Female  Male\n",
       "Product              \n",
       "KP281        40    40\n",
       "KP481        29    31\n",
       "KP781         7    33"
      ]
     },
     "execution_count": 9,
     "metadata": {},
     "output_type": "execute_result"
    }
   ],
   "source": [
    "Product_Gender_rel=pd.crosstab(data['Product'],data['Gender'])\n",
    "Product_Gender_rel"
   ]
  },
  {
   "cell_type": "markdown",
   "id": "17e505f6",
   "metadata": {},
   "source": [
    "> The Above calculation gives us Product type vs Gender intersection count for each values.\n",
    "> For example, there are 31 Male buyers for KP481 treadmill product type."
   ]
  },
  {
   "cell_type": "code",
   "execution_count": 10,
   "id": "3b6c7e69",
   "metadata": {},
   "outputs": [
    {
     "data": {
      "text/html": [
       "<div>\n",
       "<style scoped>\n",
       "    .dataframe tbody tr th:only-of-type {\n",
       "        vertical-align: middle;\n",
       "    }\n",
       "\n",
       "    .dataframe tbody tr th {\n",
       "        vertical-align: top;\n",
       "    }\n",
       "\n",
       "    .dataframe thead th {\n",
       "        text-align: right;\n",
       "    }\n",
       "</style>\n",
       "<table border=\"1\" class=\"dataframe\">\n",
       "  <thead>\n",
       "    <tr style=\"text-align: right;\">\n",
       "      <th>Gender</th>\n",
       "      <th>Female</th>\n",
       "      <th>Male</th>\n",
       "    </tr>\n",
       "    <tr>\n",
       "      <th>Product</th>\n",
       "      <th></th>\n",
       "      <th></th>\n",
       "    </tr>\n",
       "  </thead>\n",
       "  <tbody>\n",
       "    <tr>\n",
       "      <th>KP281</th>\n",
       "      <td>0.222222</td>\n",
       "      <td>0.222222</td>\n",
       "    </tr>\n",
       "    <tr>\n",
       "      <th>KP481</th>\n",
       "      <td>0.161111</td>\n",
       "      <td>0.172222</td>\n",
       "    </tr>\n",
       "    <tr>\n",
       "      <th>KP781</th>\n",
       "      <td>0.038889</td>\n",
       "      <td>0.183333</td>\n",
       "    </tr>\n",
       "  </tbody>\n",
       "</table>\n",
       "</div>"
      ],
      "text/plain": [
       "Gender     Female      Male\n",
       "Product                    \n",
       "KP281    0.222222  0.222222\n",
       "KP481    0.161111  0.172222\n",
       "KP781    0.038889  0.183333"
      ]
     },
     "execution_count": 10,
     "metadata": {},
     "output_type": "execute_result"
    }
   ],
   "source": [
    "Product_Gender_prob=Product_Gender_rel/len(data)\n",
    "Product_Gender_prob"
   ]
  },
  {
   "cell_type": "markdown",
   "id": "5c925b1a",
   "metadata": {},
   "source": [
    "> Above calculation shows us the Gender intersection Product values probability . For example, prob(KP781 intersection Male) = 0.183"
   ]
  },
  {
   "cell_type": "markdown",
   "id": "426cd9e8",
   "metadata": {},
   "source": [
    "### 2.\tNon-Graphical Analysis: Value counts and unique attributes"
   ]
  },
  {
   "cell_type": "code",
   "execution_count": 11,
   "id": "1f63ce79",
   "metadata": {},
   "outputs": [
    {
     "data": {
      "text/plain": [
       "0.32"
      ]
     },
     "execution_count": 11,
     "metadata": {},
     "output_type": "execute_result"
    }
   ],
   "source": [
    "# p(KP781 sales | Male) = p(KP781 n Male)/p(Male)\n",
    "\n",
    "prob_of_KP781sales_for_men = Product_Gender_prob['Male']['KP781']/Gender_prob['Male']\n",
    "round(prob_of_KP781sales_for_men,2)"
   ]
  },
  {
   "cell_type": "markdown",
   "id": "72dfdbe0",
   "metadata": {},
   "source": [
    "> Probability of KP781 sales for Male customers is calculated above as 0.32. The calculation is done using Conditional Probability formula."
   ]
  },
  {
   "cell_type": "code",
   "execution_count": 12,
   "id": "d97666ec",
   "metadata": {},
   "outputs": [
    {
     "data": {
      "text/plain": [
       "0.82"
      ]
     },
     "execution_count": 12,
     "metadata": {},
     "output_type": "execute_result"
    }
   ],
   "source": [
    "# p(Male | KP781 sales) = p(KP781 n Male)/p(KP781)\n",
    "\n",
    "prob_of_Men_buying_KP781 = Product_Gender_prob['Male']['KP781']/ProductType_prob['KP781']\n",
    "round(prob_of_Men_buying_KP781,2)"
   ]
  },
  {
   "cell_type": "markdown",
   "id": "92d90ed6",
   "metadata": {},
   "source": [
    "> Probability of Male buying KP781 product is calculated above as 0.82.The calculation is done using Conditional Probability formula."
   ]
  },
  {
   "cell_type": "code",
   "execution_count": 13,
   "id": "33a1521d",
   "metadata": {},
   "outputs": [
    {
     "data": {
      "text/plain": [
       "0.82"
      ]
     },
     "execution_count": 13,
     "metadata": {},
     "output_type": "execute_result"
    }
   ],
   "source": [
    "# Also p(Male | KP781 sales) = ( p(KP781 sales | Male) * p(Male) ) / p(KP781)\n",
    "\n",
    "prob_of_Men_buying_KP781_2ndMethod = (prob_of_KP781sales_for_men * Gender_prob['Male'])/ProductType_prob['KP781']\n",
    "round(prob_of_Men_buying_KP781_2ndMethod,2)"
   ]
  },
  {
   "cell_type": "markdown",
   "id": "e91bf9da",
   "metadata": {},
   "source": [
    "> Also, Probability of Male buying KP781 product is calculated above using Baye's Theorem and the value is same as calculted using conditional probability."
   ]
  },
  {
   "cell_type": "code",
   "execution_count": 14,
   "id": "266e5138",
   "metadata": {},
   "outputs": [
    {
     "data": {
      "text/html": [
       "<div>\n",
       "<style scoped>\n",
       "    .dataframe tbody tr th:only-of-type {\n",
       "        vertical-align: middle;\n",
       "    }\n",
       "\n",
       "    .dataframe tbody tr th {\n",
       "        vertical-align: top;\n",
       "    }\n",
       "\n",
       "    .dataframe thead th {\n",
       "        text-align: right;\n",
       "    }\n",
       "</style>\n",
       "<table border=\"1\" class=\"dataframe\">\n",
       "  <thead>\n",
       "    <tr style=\"text-align: right;\">\n",
       "      <th>MaritalStatus</th>\n",
       "      <th>Partnered</th>\n",
       "      <th>Single</th>\n",
       "    </tr>\n",
       "    <tr>\n",
       "      <th>Product</th>\n",
       "      <th></th>\n",
       "      <th></th>\n",
       "    </tr>\n",
       "  </thead>\n",
       "  <tbody>\n",
       "    <tr>\n",
       "      <th>KP281</th>\n",
       "      <td>0.266667</td>\n",
       "      <td>0.177778</td>\n",
       "    </tr>\n",
       "    <tr>\n",
       "      <th>KP481</th>\n",
       "      <td>0.200000</td>\n",
       "      <td>0.133333</td>\n",
       "    </tr>\n",
       "    <tr>\n",
       "      <th>KP781</th>\n",
       "      <td>0.127778</td>\n",
       "      <td>0.094444</td>\n",
       "    </tr>\n",
       "  </tbody>\n",
       "</table>\n",
       "</div>"
      ],
      "text/plain": [
       "MaritalStatus  Partnered    Single\n",
       "Product                           \n",
       "KP281           0.266667  0.177778\n",
       "KP481           0.200000  0.133333\n",
       "KP781           0.127778  0.094444"
      ]
     },
     "execution_count": 14,
     "metadata": {},
     "output_type": "execute_result"
    }
   ],
   "source": [
    "Product_MaritalStatus_rel=pd.crosstab(data['Product'],data['MaritalStatus'])\n",
    "Product_MaritalStatus_prob=Product_MaritalStatus_rel/len(data)\n",
    "Product_MaritalStatus_prob"
   ]
  },
  {
   "cell_type": "markdown",
   "id": "81187e85",
   "metadata": {},
   "source": [
    "> Law of Total Probability is defined as,\n",
    ">> p(KP481) = p(KP481 n Partnered) + p(KP481 n Single)"
   ]
  },
  {
   "cell_type": "code",
   "execution_count": 15,
   "id": "e65d7569",
   "metadata": {},
   "outputs": [
    {
     "data": {
      "text/plain": [
       "(0.33333333333333337, 0.3333333333333333)"
      ]
     },
     "execution_count": 15,
     "metadata": {},
     "output_type": "execute_result"
    }
   ],
   "source": [
    "KP481_prob_by_totalprob=Product_MaritalStatus_prob['Partnered']['KP481'] + Product_MaritalStatus_prob['Single']['KP481']\n",
    "KP481_prob_by_totalprob, ProductType_prob['KP481']"
   ]
  },
  {
   "cell_type": "markdown",
   "id": "cb812b96",
   "metadata": {},
   "source": [
    "> Here, we calculted the probabilty of sales of KP481 product type, using total probability and we compared it with the simple probability formula i.e., No. of Occurance/Total Event, and both the values are same."
   ]
  },
  {
   "cell_type": "code",
   "execution_count": 16,
   "id": "2b1ce0c5",
   "metadata": {},
   "outputs": [
    {
     "data": {
      "text/html": [
       "<div>\n",
       "<style scoped>\n",
       "    .dataframe tbody tr th:only-of-type {\n",
       "        vertical-align: middle;\n",
       "    }\n",
       "\n",
       "    .dataframe tbody tr th {\n",
       "        vertical-align: top;\n",
       "    }\n",
       "\n",
       "    .dataframe thead th {\n",
       "        text-align: right;\n",
       "    }\n",
       "</style>\n",
       "<table border=\"1\" class=\"dataframe\">\n",
       "  <thead>\n",
       "    <tr style=\"text-align: right;\">\n",
       "      <th></th>\n",
       "      <th>Usage</th>\n",
       "      <th>Miles</th>\n",
       "      <th>Fitness</th>\n",
       "    </tr>\n",
       "  </thead>\n",
       "  <tbody>\n",
       "    <tr>\n",
       "      <th>Usage</th>\n",
       "      <td>1.000000</td>\n",
       "      <td>0.759130</td>\n",
       "      <td>0.668606</td>\n",
       "    </tr>\n",
       "    <tr>\n",
       "      <th>Miles</th>\n",
       "      <td>0.759130</td>\n",
       "      <td>1.000000</td>\n",
       "      <td>0.785702</td>\n",
       "    </tr>\n",
       "    <tr>\n",
       "      <th>Fitness</th>\n",
       "      <td>0.668606</td>\n",
       "      <td>0.785702</td>\n",
       "      <td>1.000000</td>\n",
       "    </tr>\n",
       "  </tbody>\n",
       "</table>\n",
       "</div>"
      ],
      "text/plain": [
       "            Usage     Miles   Fitness\n",
       "Usage    1.000000  0.759130  0.668606\n",
       "Miles    0.759130  1.000000  0.785702\n",
       "Fitness  0.668606  0.785702  1.000000"
      ]
     },
     "execution_count": 16,
     "metadata": {},
     "output_type": "execute_result"
    }
   ],
   "source": [
    "data[['Usage','Miles','Fitness']].corr()"
   ]
  },
  {
   "cell_type": "markdown",
   "id": "df9c8a7e",
   "metadata": {},
   "source": [
    "> In the above calculated values, we can see that Usage, Miles & Fitness have high positive relativity. That means, one value impacts another."
   ]
  },
  {
   "cell_type": "markdown",
   "id": "09d83304",
   "metadata": {},
   "source": [
    "### 3.\tVisual Analysis - Univariate & Bivariate\n",
    "1.\tFor continuous variable(s): Distplot, countplot, histogram for univariate analysis\n",
    "2.\tFor categorical variable(s): Boxplot\n",
    "3.\tFor correlation: Heatmaps, Pairplots"
   ]
  },
  {
   "cell_type": "code",
   "execution_count": 17,
   "id": "8aacb95d",
   "metadata": {},
   "outputs": [
    {
     "name": "stderr",
     "output_type": "stream",
     "text": [
      "C:\\Users\\amank\\anaconda3\\lib\\site-packages\\seaborn\\distributions.py:2619: FutureWarning: `distplot` is a deprecated function and will be removed in a future version. Please adapt your code to use either `displot` (a figure-level function with similar flexibility) or `histplot` (an axes-level function for histograms).\n",
      "  warnings.warn(msg, FutureWarning)\n"
     ]
    },
    {
     "data": {
      "text/plain": [
       "<AxesSubplot:xlabel='Age', ylabel='Density'>"
      ]
     },
     "execution_count": 17,
     "metadata": {},
     "output_type": "execute_result"
    },
    {
     "data": {
      "image/png": "[encoded data removed]",
      "text/plain": [
       "<Figure size 432x288 with 1 Axes>"
      ]
     },
     "metadata": {
      "needs_background": "light"
     },
     "output_type": "display_data"
    }
   ],
   "source": [
    "sns.distplot(data['Age'])"
   ]
  },
  {
   "cell_type": "markdown",
   "id": "083808bf",
   "metadata": {},
   "source": [
    "> In the above distplot visual, it's a density curve for Age of buyers for the treadmill. We can see that, age ranging from 20 to 30 years old are more frequent buyers of the treadmill."
   ]
  },
  {
   "cell_type": "code",
   "execution_count": 18,
   "id": "a0ac2286",
   "metadata": {},
   "outputs": [
    {
     "data": {
      "text/plain": [
       "<AxesSubplot:xlabel='Fitness', ylabel='count'>"
      ]
     },
     "execution_count": 18,
     "metadata": {},
     "output_type": "execute_result"
    },
    {
     "data": {
      "image/png": "[encoded data removed]",
      "text/plain": [
       "<Figure size 432x288 with 1 Axes>"
      ]
     },
     "metadata": {
      "needs_background": "light"
     },
     "output_type": "display_data"
    }
   ],
   "source": [
    "sns.countplot(data=data,x='Fitness')"
   ]
  },
  {
   "cell_type": "markdown",
   "id": "9fea257b",
   "metadata": {},
   "source": [
    "> Above count plot is for the Fitness self rating provided by the buyers the higher number of customer's had rated themselves as 3 for Fitness."
   ]
  },
  {
   "cell_type": "code",
   "execution_count": 19,
   "id": "b5ab6ac7",
   "metadata": {},
   "outputs": [
    {
     "data": {
      "text/plain": [
       "<AxesSubplot:xlabel='Usage', ylabel='Count'>"
      ]
     },
     "execution_count": 19,
     "metadata": {},
     "output_type": "execute_result"
    },
    {
     "data": {
      "image/png": "[encoded data removed]",
      "text/plain": [
       "<Figure size 432x288 with 1 Axes>"
      ]
     },
     "metadata": {
      "needs_background": "light"
     },
     "output_type": "display_data"
    }
   ],
   "source": [
    "sns.histplot(data=data['Usage'])"
   ]
  },
  {
   "cell_type": "markdown",
   "id": "d7cf2365",
   "metadata": {},
   "source": [
    "> Above Viz is a histplot dipicting the count for the usage i.e., average number of times the customer plans to use the treadmill each week. And, most of the uesers use it for 3 to 4 times a week."
   ]
  },
  {
   "cell_type": "code",
   "execution_count": 20,
   "id": "b595b9cb",
   "metadata": {},
   "outputs": [
    {
     "data": {
      "text/plain": [
       "<AxesSubplot:xlabel='Product', ylabel='Miles'>"
      ]
     },
     "execution_count": 20,
     "metadata": {},
     "output_type": "execute_result"
    },
    {
     "data": {
      "image/png": "[encoded data removed]",
      "text/plain": [
       "<Figure size 432x288 with 1 Axes>"
      ]
     },
     "metadata": {
      "needs_background": "light"
     },
     "output_type": "display_data"
    }
   ],
   "source": [
    "sns.boxplot(y=\"Miles\",x=\"Product\",data=data)"
   ]
  },
  {
   "cell_type": "markdown",
   "id": "bb8dd6d6",
   "metadata": {},
   "source": [
    "> The boxplot for Product vs Miles shows that users who bought KP781 Product run for more miles than the other 2 types."
   ]
  },
  {
   "cell_type": "code",
   "execution_count": 21,
   "id": "cf734eb1",
   "metadata": {},
   "outputs": [
    {
     "data": {
      "text/plain": [
       "<AxesSubplot:xlabel='Fitness', ylabel='Product'>"
      ]
     },
     "execution_count": 21,
     "metadata": {},
     "output_type": "execute_result"
    },
    {
     "data": {
      "image/png": "[encoded data removed]",
      "text/plain": [
       "<Figure size 432x288 with 2 Axes>"
      ]
     },
     "metadata": {
      "needs_background": "light"
     },
     "output_type": "display_data"
    }
   ],
   "source": [
    "sns.heatmap(pd.crosstab(data['Product'],data['Fitness']),annot=True)"
   ]
  },
  {
   "cell_type": "markdown",
   "id": "e854e820",
   "metadata": {},
   "source": [
    "> Above heatmap for Product type vs Fitness shows that buyers rating themselves as 3 have bought KP481 & KP281, products more often. Also, KP781 product which is also have highest cost is bought by customers who rated themselves as 5 in fitness."
   ]
  },
  {
   "cell_type": "code",
   "execution_count": 22,
   "id": "f71b417c",
   "metadata": {},
   "outputs": [
    {
     "data": {
      "text/plain": [
       "<seaborn.axisgrid.PairGrid at 0x1a3e9563a60>"
      ]
     },
     "execution_count": 22,
     "metadata": {},
     "output_type": "execute_result"
    },
    {
     "data": {
      "image/png": "[encoded data removed]",
      "text/plain": [
       "<Figure size 427.625x360 with 6 Axes>"
      ]
     },
     "metadata": {
      "needs_background": "light"
     },
     "output_type": "display_data"
    }
   ],
   "source": [
    "sns.pairplot(data[[\"Product\",'Age','Miles']],hue=\"Product\")"
   ]
  },
  {
   "cell_type": "markdown",
   "id": "6aaeb8ac",
   "metadata": {},
   "source": [
    "> The above pairplot compares the relativity between Age of buyers and Miles run by them.Irrespective of age, users who bought KP781 product type have run the treadmile for more miles."
   ]
  },
  {
   "cell_type": "markdown",
   "id": "45cc3465",
   "metadata": {},
   "source": [
    "### 4.\tMissing Value & Outlier Detection "
   ]
  },
  {
   "cell_type": "code",
   "execution_count": 23,
   "id": "2d805857",
   "metadata": {},
   "outputs": [
    {
     "data": {
      "text/plain": [
       "Product  Age    Gender  Education  MaritalStatus  Usage  Fitness  Income  Miles\n",
       "False    False  False   False      False          False  False    False   False    180\n",
       "dtype: int64"
      ]
     },
     "execution_count": 23,
     "metadata": {},
     "output_type": "execute_result"
    }
   ],
   "source": [
    "pd.isnull(data).value_counts()"
   ]
  },
  {
   "cell_type": "markdown",
   "id": "3daee7c4",
   "metadata": {},
   "source": [
    "> As we can see from above calculation, value count for non-null data for each column in the dataset is 180, which is the overall count of row data. That implies, there is NO MISSING VALUE in the provided dataset."
   ]
  },
  {
   "cell_type": "code",
   "execution_count": 24,
   "id": "dbe80c13",
   "metadata": {},
   "outputs": [
    {
     "data": {
      "text/plain": [
       "<AxesSubplot:xlabel='Product', ylabel='Age'>"
      ]
     },
     "execution_count": 24,
     "metadata": {},
     "output_type": "execute_result"
    },
    {
     "data": {
      "image/png": "[encoded data removed]",
      "text/plain": [
       "<Figure size 432x288 with 1 Axes>"
      ]
     },
     "metadata": {
      "needs_background": "light"
     },
     "output_type": "display_data"
    }
   ],
   "source": [
    "sns.boxplot(y=\"Age\",x=\"Product\",data=data)"
   ]
  },
  {
   "cell_type": "markdown",
   "id": "4f61e0a5",
   "metadata": {},
   "source": [
    "> The above boxplot for Age vs Product shows that, there are more outliers for KP781 product tpye. That means, distribution of the age of users for KP781 has significant number of outliers."
   ]
  },
  {
   "cell_type": "code",
   "execution_count": 25,
   "id": "81b09336",
   "metadata": {},
   "outputs": [
    {
     "data": {
      "text/plain": [
       "<matplotlib.collections.PathCollection at 0x1a3e9926be0>"
      ]
     },
     "execution_count": 25,
     "metadata": {},
     "output_type": "execute_result"
    },
    {
     "data": {
      "image/png": "[encoded data removed]",
      "text/plain": [
       "<Figure size 432x288 with 1 Axes>"
      ]
     },
     "metadata": {
      "needs_background": "light"
     },
     "output_type": "display_data"
    }
   ],
   "source": [
    "plt.scatter(data['Age'],data['Miles'])"
   ]
  },
  {
   "cell_type": "markdown",
   "id": "17b4a8e8",
   "metadata": {},
   "source": [
    "> Scatter plot is also a way to detect the outliers. Here, we can see that most of the users age range from 20 to 40, and the miles run buy them ranges from 50 to 250 miles. But beyond that, there lies the outliers, specially for the users who have run for more than 250 miles."
   ]
  },
  {
   "cell_type": "markdown",
   "id": "71f4218c",
   "metadata": {},
   "source": [
    "### 5.\tBusiness Insights based on Non-Graphical and Visual "
   ]
  },
  {
   "cell_type": "markdown",
   "id": "c100d7ae",
   "metadata": {},
   "source": [
    "> 1. Male & Partnered people are more likely to buy the product.\n",
    "> 2. People rating themselves higher tend to run more miles of the treadmills.\n",
    "> 3. There are most number of buyer around age 25.\n",
    "> 4. People rating themselves 3 are more likely to buy the product.\n",
    "> 5. More number of users use the treadmill 3-4 times a week.\n",
    "> 6. Customers buying KP781 type are running for more miles than the other 2 types.\n",
    "> 7. Customers rating themselves 1 as fitness are very less likely to buy any product.\n",
    "> 8. Customers rating themselves 5 as fitness are very more likely to buy KP781 product type.\n",
    "> 9. There are not many customers who run for more than 250 miles.\n",
    "> 10. People aged above 40 are more likely to buy KP781 product type of treadmill."
   ]
  },
  {
   "cell_type": "markdown",
   "id": "bb09af06",
   "metadata": {},
   "source": [
    "### 6.\tRecommendations"
   ]
  },
  {
   "cell_type": "markdown",
   "id": "bb06d11e",
   "metadata": {},
   "source": [
    "> 1. Sale of KP281 product type for treadmill is more, compared to other 2 types. So, the stock should be maintained as such.\n",
    "> 2. Introduce some offer to increase the sale for KP781 product type, especially for Female customers, since the sale is low for this type. Also, the cost of higher for this type. So, this can be one of the reasons.\n",
    "> 3. Around 80% of KP781 buyers are Male. So, the enhancement and upgrades can be done taking the Male customers usage data in mind.\n",
    "> 4. Training programs can be introduced in order to engage people with low fitness ratings.\n",
    "> 5. Introduce rental services for treadmills to single or low age-low income section of customers, in order to increase users."
   ]
  }
 ],
 "metadata": {
  "kernelspec": {
   "display_name": "Python 3 (ipykernel)",
   "language": "python",
   "name": "python3"
  },
  "language_info": {
   "codemirror_mode": {
    "name": "ipython",
    "version": 3
   },
   "file_extension": ".py",
   "mimetype": "text/x-python",
   "name": "python",
   "nbconvert_exporter": "python",
   "pygments_lexer": "ipython3",
   "version": "3.9.7"
  }
 },
 "nbformat": 4,
 "nbformat_minor": 5
}
